{
 "cells": [
  {
   "cell_type": "code",
   "execution_count": 1,
   "metadata": {},
   "outputs": [],
   "source": [
    "import pandas as pd\n",
    "import numpy as np\n",
    "from tqdm import tqdm_notebook as tqdm\n",
    "import matplotlib.pyplot as plt"
   ]
  },
  {
   "cell_type": "code",
   "execution_count": 2,
   "metadata": {},
   "outputs": [],
   "source": [
    "df = pd.read_csv(\"../input/commonlitreadabilityprize/train.csv\")"
   ]
  },
  {
   "cell_type": "code",
   "execution_count": 3,
   "metadata": {},
   "outputs": [],
   "source": [
    "val_idx = np.arange(0, len(df), 5)\n",
    "train_idx = [i for i in range(len(df)) if i not in val_idx]\n",
    "df_train = df.iloc[train_idx].reset_index(drop=True)"
   ]
  },
  {
   "cell_type": "code",
   "execution_count": 20,
   "metadata": {},
   "outputs": [],
   "source": [
    "def replace_stop_words(x):\n",
    "    x = x.replace(\".\", \" . \")\n",
    "    x = x.replace(\",\", \" , \")\n",
    "    x = x.replace(\"!\", \" ! \")\n",
    "    x = x.replace(\"?\", \" ? \")\n",
    "    x = x.replace(\"\\n\", \" \\n \")\n",
    "    x = x.replace(\")\", \" ) \")\n",
    "    x = x.replace(\"(\", \" ( \")\n",
    "    x = x.replace('\"', ' \" ')\n",
    "    x = x.replace(\";\", \" ; \")\n",
    "\n",
    "    x = x.replace(\"  \", \" \")\n",
    "    x = x.replace(\"  \", \" \")\n",
    "    return x"
   ]
  },
  {
   "cell_type": "code",
   "execution_count": 21,
   "metadata": {},
   "outputs": [
    {
     "name": "stderr",
     "output_type": "stream",
     "text": [
      "<ipython-input-21-b44fa5c4a26a>:3: TqdmDeprecationWarning: This function will be removed in tqdm==5.0.0\n",
      "Please use `tqdm.notebook.tqdm` instead of `tqdm.tqdm_notebook`\n",
      "  for x in tqdm(df_train[[\"excerpt\", \"target\"]].values):\n"
     ]
    },
    {
     "data": {
      "application/vnd.jupyter.widget-view+json": {
       "model_id": "469ce86669ae4111a2b7b83ef9885ca6",
       "version_major": 2,
       "version_minor": 0
      },
      "text/plain": [
       "HBox(children=(FloatProgress(value=0.0, max=2267.0), HTML(value='')))"
      ]
     },
     "metadata": {},
     "output_type": "display_data"
    },
    {
     "name": "stdout",
     "output_type": "stream",
     "text": [
      "\n"
     ]
    }
   ],
   "source": [
    "word_dict = {}\n",
    "total_words = 0\n",
    "for x in tqdm(df_train[[\"excerpt\", \"target\"]].values):\n",
    "# for x in tqdm(df[[\"excerpt\", \"target\"]].values):\n",
    "    excerpt = replace_stop_words(x[0])\n",
    "    target = x[1]\n",
    "    for word in set(excerpt.split(\" \")):\n",
    "        total_words += 1\n",
    "        word = word\n",
    "        if word not in word_dict:\n",
    "            word_dict[word] = {\n",
    "                \"n\": 1,\n",
    "                \"target\": [target] \n",
    "            }\n",
    "        else:\n",
    "            word_dict[word][\"n\"] += 1\n",
    "            word_dict[word][\"target\"].append(target)\n",
    "    "
   ]
  },
  {
   "cell_type": "code",
   "execution_count": 22,
   "metadata": {},
   "outputs": [],
   "source": [
    "for k in word_dict.keys():\n",
    "    word_dict[k][\"mean\"] = np.array(word_dict[k][\"target\"]).mean()\n",
    "    word_dict[k][\"max\"] = np.array(word_dict[k][\"target\"]).max()\n",
    "    # word_dict[k][\"25p\"] = np.percentile(np.array(word_dict[k][\"target\"]), 25)\n",
    "    # word_dict[k][\"75p\"] = np.percentile(np.array(word_dict[k][\"target\"]), 75)\n",
    "    word_dict[k][\"min\"] = np.array(word_dict[k][\"target\"]).min()"
   ]
  },
  {
   "cell_type": "code",
   "execution_count": 23,
   "metadata": {},
   "outputs": [],
   "source": [
    "dfs = []\n",
    "for k in word_dict.keys():\n",
    "    dfs.append({\"word\": k, \n",
    "                \"mean\": word_dict[k][\"mean\"], \n",
    "                \"max\": word_dict[k][\"max\"], \n",
    "                \"min\": word_dict[k][\"min\"], \n",
    "                # \"25p\": word_dict[k][\"25p\"], \n",
    "                # \"75p\": word_dict[k][\"75p\"], \n",
    "                \"n\": word_dict[k][\"n\"]})"
   ]
  },
  {
   "cell_type": "code",
   "execution_count": 24,
   "metadata": {},
   "outputs": [],
   "source": [
    "dfs = pd.DataFrame(dfs)"
   ]
  },
  {
   "cell_type": "code",
   "execution_count": 25,
   "metadata": {},
   "outputs": [],
   "source": [
    "target_mean = df_train[\"target\"].mean()"
   ]
  },
  {
   "cell_type": "code",
   "execution_count": 26,
   "metadata": {},
   "outputs": [],
   "source": [
    "def bayse_mean(n, mean, threshold=300):\n",
    "    if n > threshold:\n",
    "        return mean\n",
    "    else:\n",
    "        return (target_mean * (threshold - n) + mean * n) / threshold\n",
    "    \n",
    "dfs[\"bayse_mean\"] = [bayse_mean(x[0], x[1]) for x in dfs[[\"n\", \"mean\"]].values]"
   ]
  },
  {
   "cell_type": "code",
   "execution_count": 33,
   "metadata": {},
   "outputs": [
    {
     "data": {
      "text/plain": [
       "array(['Long', 'Look', 'chickens', 'ready', \"o'clock\", 'sing', 'king',\n",
       "       'shop', 'rain', 'dogs', 'journey', 'remember', 'Tom', 'smell',\n",
       "       'animal', 'scared', 'harm', 'gift', 'seated', 'feathers', 'Alice',\n",
       "       'exclaimed', 'drink', 'made', 'sang', 'wall', 'move', 'brother',\n",
       "       'humans', 'Many', 'jump', 'slowly', 'played', 'doctors', 'bushes',\n",
       "       'plenty', 'hands', 'tied', 'hide', 'Another', 'All', 'taking',\n",
       "       'picked', 'others', 'woke', 'quickly', 'yellow', 'fairy', 'deep',\n",
       "       'flying', 'build', 'became', 'everyone', 'maybe', 'swim',\n",
       "       'falling', 'quietly', 'lovely', 'we', 'fish', 'grabbed', 'man',\n",
       "       'leaves', 'cook', 'call', 'agreed', 'sunny', 'seen', 'song',\n",
       "       'Imagine', 'few', 'Jack', 'flowers', 'Maybe', 'basket', 'really',\n",
       "       'together', 'takes', 'top', 'actually', 'even', 'example',\n",
       "       'yourself', 'fear', 'cells', 'worried', 'forest', 'start', 'idea',\n",
       "       'open', 'also', 'forgot', 'happens', 'bank', 'arm', 'not',\n",
       "       'talked', 'wondered', 'yes', 'sent', 'Rabbit', 'tiny', 'arrived',\n",
       "       'laughing', 'threw', 'spoke', 'watched', 'waiting', 'corner',\n",
       "       'story', 'meant', 'hat', 'sound', 'stones', 'sorry', 'until',\n",
       "       'sky', 'No', 'while', 'teacher', 'coat', 'bring', 'cat', 'woods',\n",
       "       'another', \"won't\", 'village', 'behind', 'full', 'some', 'table',\n",
       "       'where', 'says', 'river', 'talk', 'grow', 'quite', 'lay',\n",
       "       'singing', 'eaten', 'water', 'ice', 'gets', 'eggs', 'weather',\n",
       "       'Can', 'feed', 'buy', 'busy', 'feel', 'give', 'carry', 'place',\n",
       "       'listen', 'able', 'hole', 'afternoon', 'bag', 'sick', 'said:',\n",
       "       'across', 'wings', 'rocks', 'care', 'here', 'ball', 'someone',\n",
       "       'Where', 'brothers', 'grew', 'important', 'Scientists', 'glad',\n",
       "       'bad', 'need', 'blue', 'Please', 'tail', 'visit', \"it's\",\n",
       "       'scientists', 'ask', 'breakfast', 'hit', 'pet', 'floor', 'summer',\n",
       "       \"I'll\", 'dinner', 'legs', 'still', 'hurt', 'sisters', 'please',\n",
       "       'after', 'picture', 'sitting', 'running', 'town', 'happened',\n",
       "       'fun', 'neck', 'round', 'named', 'answered', 'pulled', 'Soon',\n",
       "       'crying', 'straight', 'frightened', 'asleep', 'chair', 'walking',\n",
       "       'person', 'bird', 'Come', 'seemed', 'pick', 'papa', 'watch',\n",
       "       'cake', 'ride', 'fly', 'ate', 'safe', 'horse', 'dear', 'ways',\n",
       "       'everything', 'winter', 'kind', 'will', 'there', 'inside',\n",
       "       'garden', 'Suddenly', 'anything', 'noise', 'else', 'live',\n",
       "       'saying', 'if', 'who', 'Some', 'felt', 'parents', 'can', 'were',\n",
       "       'climbed', 'bit', '\\n', 'dark', 'angry', 'Do', 'once', 'then',\n",
       "       'At', 'bright', 'eating', 'better', 'shouted', \"couldn't\", 'Have',\n",
       "       'window', 'cry', 'However', \"It's\", 'wait', 'woman', 'Mother',\n",
       "       'brain', 'along', 'red', 'watching', 'stay', 'white', 'cold',\n",
       "       'talking', 'over', 'Every', 'girls', 'tried', 'black', 'That',\n",
       "       'would', 'caught', 'hear', \"Don't\", 'today', 'flew', 'road',\n",
       "       'snow', 'was', 'decided', 'sit', 'baby', 'grass', 'lot',\n",
       "       'beautiful', 'stop', 'friend', 'long', 'catch', 'playing', 'After',\n",
       "       'ground', 'liked', 'learn', 'walk', 'Her', 'jumped', 'kept',\n",
       "       'tired', 'money', 'herself', 'afraid', 'run', 'try', 'near', 'And',\n",
       "       'loved', 'left', 'sure', 'trying', 'sister', 'many', 'getting',\n",
       "       'his', 'eyes', 'Just', 'night', 'sun', 'sad', 'room', 'enough',\n",
       "       'My', 'replied', 'fell', 'right', 'People', 'before', 'walked',\n",
       "       'knew', 'never', 'when', 'am', 'why', 'pretty', \"can't\", 'bed',\n",
       "       'keep', 'fast', 'nice', 'head', 'family', 'boys', 'child', 'gave',\n",
       "       'much', 'hungry', 'opened', 'mamma', 'poor', 'so', 'Sometimes',\n",
       "       'sat', 'gone', \"didn't\", 'birds', 'thing', 'stopped', 'them',\n",
       "       'Once', 'trees', 'young', 'time', 'thinking', 'Why', 'happy',\n",
       "       'warm', 'coming', 'had', 'We', 'sleep', 'let', 'animals', 'Yes',\n",
       "       'dog', 'people', 'door', 'next', \"I'm\", 'about', 'looking', 'Well',\n",
       "       'There', 'wanted', 'look', 'he', \"don't\", 'again', 'something',\n",
       "       'way', 'lived', 'girl', 'hard', 'play', 'stood', 'Now', 'tree',\n",
       "       'school', 'come', 'found', 'How', 'things', 'they', 'find',\n",
       "       'friends', 'father', 'make', 'I', 'like', 'started', 'off', 'take',\n",
       "       'heard', 'my', 'too', 'told', 'boy', 'morning', 'soon', 'going',\n",
       "       'him', 'children', 'cried', 'good', 'What', 'began', 'around',\n",
       "       'tell', 'old', 'food', 'very', 'Oh', 'house', 'what', 'up', 'ran',\n",
       "       'want', 'out', 'could', 'down', 'big', 'know', 'because', 'help',\n",
       "       'little', 'called', 'He', 'looked', 'took', 'how', 'You', 'eat',\n",
       "       'got', 'They', 'did', 'put', 'think', 'But', 'back', 'just',\n",
       "       'mother', 'thought', 'So', 'away', 'her', 'asked', 'your', 'day',\n",
       "       'When', 'do', 'saw', 'came', 'see', 'home', 'me', 'Then', 'she',\n",
       "       'go', 'you', 'get', 'She', 'said', 'went', 'One'], dtype='<U10')"
      ]
     },
     "execution_count": 33,
     "metadata": {},
     "output_type": "execute_result"
    }
   ],
   "source": [
    "np.array([x for x in dfs.sort_values(\"bayse_mean\").tail(500)[\"word\"].values if x not in [\"!\", \"?\", \"(\", \")\", \"'\", '\"', \";\", \".\", \",\"]])"
   ]
  },
  {
   "cell_type": "code",
   "execution_count": 28,
   "metadata": {},
   "outputs": [
    {
     "data": {
      "text/html": [
       "<div>\n",
       "<style scoped>\n",
       "    .dataframe tbody tr th:only-of-type {\n",
       "        vertical-align: middle;\n",
       "    }\n",
       "\n",
       "    .dataframe tbody tr th {\n",
       "        vertical-align: top;\n",
       "    }\n",
       "\n",
       "    .dataframe thead th {\n",
       "        text-align: right;\n",
       "    }\n",
       "</style>\n",
       "<table border=\"1\" class=\"dataframe\">\n",
       "  <thead>\n",
       "    <tr style=\"text-align: right;\">\n",
       "      <th></th>\n",
       "      <th>word</th>\n",
       "      <th>mean</th>\n",
       "      <th>max</th>\n",
       "      <th>min</th>\n",
       "      <th>n</th>\n",
       "      <th>bayse_mean</th>\n",
       "    </tr>\n",
       "  </thead>\n",
       "  <tbody>\n",
       "    <tr>\n",
       "      <th>75</th>\n",
       "      <td>she</td>\n",
       "      <td>-0.483072</td>\n",
       "      <td>1.597870</td>\n",
       "      <td>-2.934846</td>\n",
       "      <td>445</td>\n",
       "      <td>-0.483072</td>\n",
       "    </tr>\n",
       "    <tr>\n",
       "      <th>116</th>\n",
       "      <td>go</td>\n",
       "      <td>-0.457383</td>\n",
       "      <td>1.541672</td>\n",
       "      <td>-3.164212</td>\n",
       "      <td>295</td>\n",
       "      <td>-0.465702</td>\n",
       "    </tr>\n",
       "    <tr>\n",
       "      <th>62</th>\n",
       "      <td>you</td>\n",
       "      <td>-0.452549</td>\n",
       "      <td>1.711390</td>\n",
       "      <td>-3.223444</td>\n",
       "      <td>564</td>\n",
       "      <td>-0.452549</td>\n",
       "    </tr>\n",
       "    <tr>\n",
       "      <th>405</th>\n",
       "      <td>get</td>\n",
       "      <td>-0.374841</td>\n",
       "      <td>1.541672</td>\n",
       "      <td>-3.668360</td>\n",
       "      <td>263</td>\n",
       "      <td>-0.446587</td>\n",
       "    </tr>\n",
       "    <tr>\n",
       "      <th>99</th>\n",
       "      <td>She</td>\n",
       "      <td>-0.347463</td>\n",
       "      <td>1.597870</td>\n",
       "      <td>-2.654974</td>\n",
       "      <td>256</td>\n",
       "      <td>-0.436798</td>\n",
       "    </tr>\n",
       "    <tr>\n",
       "      <th>65</th>\n",
       "      <td>said</td>\n",
       "      <td>-0.419919</td>\n",
       "      <td>1.465055</td>\n",
       "      <td>-3.403930</td>\n",
       "      <td>477</td>\n",
       "      <td>-0.419919</td>\n",
       "    </tr>\n",
       "    <tr>\n",
       "      <th>111</th>\n",
       "      <td>?</td>\n",
       "      <td>-0.407646</td>\n",
       "      <td>1.711390</td>\n",
       "      <td>-3.415781</td>\n",
       "      <td>463</td>\n",
       "      <td>-0.407646</td>\n",
       "    </tr>\n",
       "    <tr>\n",
       "      <th>104</th>\n",
       "      <td>!</td>\n",
       "      <td>-0.400286</td>\n",
       "      <td>1.597870</td>\n",
       "      <td>-3.415781</td>\n",
       "      <td>498</td>\n",
       "      <td>-0.400286</td>\n",
       "    </tr>\n",
       "    <tr>\n",
       "      <th>171</th>\n",
       "      <td>went</td>\n",
       "      <td>-0.396441</td>\n",
       "      <td>1.583847</td>\n",
       "      <td>-3.229761</td>\n",
       "      <td>336</td>\n",
       "      <td>-0.396441</td>\n",
       "    </tr>\n",
       "    <tr>\n",
       "      <th>301</th>\n",
       "      <td>One</td>\n",
       "      <td>-0.302631</td>\n",
       "      <td>1.711390</td>\n",
       "      <td>-2.913002</td>\n",
       "      <td>259</td>\n",
       "      <td>-0.392001</td>\n",
       "    </tr>\n",
       "  </tbody>\n",
       "</table>\n",
       "</div>"
      ],
      "text/plain": [
       "     word      mean       max       min    n  bayse_mean\n",
       "75    she -0.483072  1.597870 -2.934846  445   -0.483072\n",
       "116    go -0.457383  1.541672 -3.164212  295   -0.465702\n",
       "62    you -0.452549  1.711390 -3.223444  564   -0.452549\n",
       "405   get -0.374841  1.541672 -3.668360  263   -0.446587\n",
       "99    She -0.347463  1.597870 -2.654974  256   -0.436798\n",
       "65   said -0.419919  1.465055 -3.403930  477   -0.419919\n",
       "111     ? -0.407646  1.711390 -3.415781  463   -0.407646\n",
       "104     ! -0.400286  1.597870 -3.415781  498   -0.400286\n",
       "171  went -0.396441  1.583847 -3.229761  336   -0.396441\n",
       "301   One -0.302631  1.711390 -2.913002  259   -0.392001"
      ]
     },
     "execution_count": 28,
     "metadata": {},
     "output_type": "execute_result"
    }
   ],
   "source": [
    "dfs.sort_values(\"bayse_mean\").tail(10)"
   ]
  },
  {
   "cell_type": "code",
   "execution_count": 214,
   "metadata": {},
   "outputs": [],
   "source": [
    "difficulty_dict = dfs.set_index(\"word\")[\"bayse_mean\"]"
   ]
  },
  {
   "cell_type": "code",
   "execution_count": 215,
   "metadata": {},
   "outputs": [],
   "source": [
    "difficulties = []\n",
    "for excerpt in df[\"excerpt\"].values:\n",
    "    excerpt = replace_stop_words(excerpt)\n",
    "    ary = []\n",
    "    for word in excerpt.split(\" \"):\n",
    "        if word in difficulty_dict:\n",
    "            ary.append(difficulty_dict[word])\n",
    "        else:\n",
    "            ary.append(target_mean)\n",
    "    difficulties.append(ary)"
   ]
  },
  {
   "cell_type": "code",
   "execution_count": 216,
   "metadata": {},
   "outputs": [],
   "source": [
    "df[\"diff\"] = difficulties"
   ]
  },
  {
   "cell_type": "code",
   "execution_count": 217,
   "metadata": {},
   "outputs": [],
   "source": [
    "df[\"mean\"] = [np.mean(x) for x in df[\"diff\"].values]\n",
    "df[\"len\"] = [len(x) for x in df[\"diff\"].values]\n",
    "for i in range(0, 100, 10):\n",
    "    df[f\"percentile{i}\"] = [np.percentile(x, i) for x in df[\"diff\"].values]"
   ]
  },
  {
   "cell_type": "code",
   "execution_count": null,
   "metadata": {},
   "outputs": [],
   "source": []
  },
  {
   "cell_type": "code",
   "execution_count": 218,
   "metadata": {},
   "outputs": [
    {
     "data": {
      "text/plain": [
       "<matplotlib.collections.PathCollection at 0x2a3fa076c40>"
      ]
     },
     "execution_count": 218,
     "metadata": {},
     "output_type": "execute_result"
    },
    {
     "data": {
      "image/png": "[encoded data removed]",
      "text/plain": [
       "<Figure size 1080x1080 with 1 Axes>"
      ]
     },
     "metadata": {
      "needs_background": "light"
     },
     "output_type": "display_data"
    }
   ],
   "source": [
    "\n",
    "plt.figure(figsize=(15, 15))\n",
    "plt.scatter(df[\"target\"].values, df[\"mean\"].values, s=6, alpha=0.5, color=\"red\")"
   ]
  },
  {
   "cell_type": "code",
   "execution_count": 219,
   "metadata": {},
   "outputs": [],
   "source": [
    "from sklearn.ensemble import RandomForestRegressor\n",
    "from sklearn.svm import SVR\n",
    "from sklearn.linear_model import Ridge\n"
   ]
  },
  {
   "cell_type": "code",
   "execution_count": 273,
   "metadata": {},
   "outputs": [],
   "source": [
    "\n",
    "model = SVR(C=10000, epsilon=0.1)\n",
    "# model = RandomForestRegressor(n_estimators=100)"
   ]
  },
  {
   "cell_type": "code",
   "execution_count": 274,
   "metadata": {},
   "outputs": [
    {
     "data": {
      "text/plain": [
       "Index(['id', 'url_legal', 'license', 'excerpt', 'target', 'standard_error',\n",
       "       'diff', 'mean', 'len', 'percentile0', 'percentile10', 'percentile20',\n",
       "       'percentile30', 'percentile40', 'percentile50', 'percentile60',\n",
       "       'percentile70', 'percentile80', 'percentile90'],\n",
       "      dtype='object')"
      ]
     },
     "execution_count": 274,
     "metadata": {},
     "output_type": "execute_result"
    }
   ],
   "source": [
    "df.columns"
   ]
  },
  {
   "cell_type": "code",
   "execution_count": 275,
   "metadata": {},
   "outputs": [
    {
     "data": {
      "text/plain": [
       "SVR(C=10000)"
      ]
     },
     "execution_count": 275,
     "metadata": {},
     "output_type": "execute_result"
    }
   ],
   "source": [
    "model.fit(df.iloc[train_idx].drop([\"id\", \"url_legal\", \"license\", \"excerpt\", \"target\", \"diff\", \"standard_error\"], axis=1).values,\n",
    "          df.iloc[train_idx][\"target\"].values)"
   ]
  },
  {
   "cell_type": "code",
   "execution_count": 276,
   "metadata": {},
   "outputs": [],
   "source": [
    "target = df.iloc[val_idx][\"target\"].values\n",
    "pred = model.predict(df.iloc[val_idx].drop([\"id\", \"url_legal\", \"license\", \"excerpt\", \"target\", \"diff\", \"standard_error\"], axis=1).values)"
   ]
  },
  {
   "cell_type": "code",
   "execution_count": 277,
   "metadata": {},
   "outputs": [
    {
     "name": "stdout",
     "output_type": "stream",
     "text": [
      "0.8251422442091497\n"
     ]
    }
   ],
   "source": [
    "rmse = np.sqrt(1 / len(pred) * ((target - pred)**2).sum())\n",
    "print(rmse)"
   ]
  },
  {
   "cell_type": "code",
   "execution_count": 278,
   "metadata": {},
   "outputs": [
    {
     "data": {
      "text/plain": [
       "array([-1.33668347e+00, -1.17394972e+00, -1.52418219e+00, -4.00371466e-01,\n",
       "       -8.25737148e-02, -7.08430400e-01, -5.29736667e-01,  4.32756857e-02,\n",
       "        3.71165128e-01, -4.44930616e-01, -7.36410584e-01,  1.43547533e-01,\n",
       "       -3.73311744e-01, -4.01662933e-02, -7.22869769e-01, -1.15862675e+00,\n",
       "        2.45617132e-01, -8.84633477e-01, -1.07855368e+00, -8.12138391e-01,\n",
       "       -1.05026861e+00, -3.27395124e-01,  1.34713454e-01, -8.15996805e-01,\n",
       "       -1.14179482e+00, -4.27997237e-01, -1.22653334e+00, -1.24088041e+00,\n",
       "       -3.36796020e-01, -3.89151219e-01, -8.03815571e-01, -5.58788726e-01,\n",
       "       -7.01337426e-01, -5.13435324e-01, -1.21880480e-01, -9.79519611e-01,\n",
       "       -1.02114840e+00, -5.56581794e-01, -6.20195169e-01, -3.95097008e-01,\n",
       "       -2.56963409e-01, -1.23983374e+00, -7.52222524e-01, -2.10555325e-01,\n",
       "       -1.59487987e+00, -3.55352077e-02, -1.02601593e+00, -7.47552259e-01,\n",
       "        5.74203781e-01,  4.82617062e-02, -1.59213867e+00, -1.60845066e+00,\n",
       "       -2.02310976e+00, -1.60057749e+00, -1.97350448e+00, -1.54962116e+00,\n",
       "       -1.95869824e+00, -5.81334597e-01, -1.85925987e+00, -1.34806146e+00,\n",
       "       -1.48155880e+00, -1.58340228e+00, -1.22038527e+00, -1.68293460e+00,\n",
       "       -1.72664422e+00, -1.68514319e+00, -8.25137361e-01, -1.44384393e+00,\n",
       "       -1.82336654e+00, -1.36245908e+00, -1.02259436e+00, -1.63147161e+00,\n",
       "       -1.68835916e+00, -1.76890868e+00, -1.37944156e+00, -1.72948178e+00,\n",
       "       -1.72288612e+00, -1.34695862e+00, -1.43375147e+00, -1.32965938e+00,\n",
       "       -1.50954480e+00, -8.94952963e-01, -1.28320419e+00, -1.43981518e+00,\n",
       "       -1.61941880e+00, -1.40080660e+00, -2.17112581e+00, -1.43566898e+00,\n",
       "       -1.30346687e+00, -1.95615051e+00, -9.91747146e-01, -8.42151331e-01,\n",
       "       -1.09963846e+00, -1.26019914e+00, -1.26591644e+00, -1.14797469e+00,\n",
       "       -5.81219281e-01, -1.54823976e+00, -1.91782992e+00, -1.65854756e+00,\n",
       "       -1.53899953e+00, -5.97462718e-01, -1.54809395e+00, -1.77332370e+00,\n",
       "       -1.33069874e+00, -1.27355516e+00, -1.87263875e+00, -1.75292368e+00,\n",
       "       -1.63098656e+00, -1.17474625e+00, -7.70772835e-01, -1.62080392e+00,\n",
       "       -1.11310244e-01, -6.91260868e-01, -1.04846111e+00, -1.44447279e+00,\n",
       "       -1.94904400e+00, -1.28264249e+00, -1.32001739e+00, -1.65817895e+00,\n",
       "       -1.74404239e+00, -1.07869906e+00, -2.06763374e+00, -1.62296127e+00,\n",
       "       -1.44650497e+00, -1.56299658e+00, -1.17555200e+00, -1.28678979e+00,\n",
       "       -1.51388443e+00, -1.03069579e+00, -1.21126280e+00, -8.77058579e-01,\n",
       "       -1.63520822e+00, -1.09390712e+00, -1.51190424e+00, -1.66540915e+00,\n",
       "       -2.73767009e-01, -1.50011774e+00, -1.35114183e+00, -1.63579962e+00,\n",
       "       -1.51588191e+00, -1.33431052e+00, -1.58967381e+00, -4.46368668e-01,\n",
       "       -1.56581738e+00, -1.47125428e+00, -1.56369915e+00, -1.70698434e+00,\n",
       "       -1.71440529e+00, -2.73102929e-01, -1.49800063e+00, -5.58424342e-01,\n",
       "       -1.13292713e+00, -1.16125799e+00, -1.42635242e+00, -1.68049319e+00,\n",
       "       -1.60414135e+00, -1.40757983e+00, -4.78271514e-01, -1.27378790e+00,\n",
       "       -1.28934436e+00, -1.26724740e+00,  6.32949847e-01, -1.70306836e+00,\n",
       "       -8.41739918e-01, -2.18931341e-01, -7.00723769e-01, -1.72262184e-01,\n",
       "       -1.44357298e+00, -4.99221261e-01, -1.43443684e+00, -9.98312073e-01,\n",
       "        2.62730157e-01, -1.07869971e+00, -9.10867792e-01, -1.31473851e+00,\n",
       "       -1.54355115e+00, -1.60503831e+00, -1.73738215e+00, -5.85984725e-01,\n",
       "       -1.58933878e+00, -1.27630174e+00, -1.48417908e+00, -2.01080382e-01,\n",
       "        9.04758124e-03, -2.12206569e-01, -7.58625781e-02, -1.48986463e+00,\n",
       "       -1.57954728e+00, -1.16883592e+00, -1.46879413e+00, -1.24230869e+00,\n",
       "       -6.23294274e-01, -1.55605328e+00, -1.59019120e+00, -2.34579345e-01,\n",
       "       -4.04504718e-01,  7.43559593e-02,  1.94751083e+00, -5.07455694e-01,\n",
       "       -3.28796620e-01,  9.14399624e-01,  4.45700484e-01,  6.25475731e-04,\n",
       "       -1.36808460e+00, -1.72983657e-02, -4.12770353e-01, -2.06781933e-01,\n",
       "       -3.86092854e-01,  4.11580145e-01, -7.72461259e-02, -4.77753544e-01,\n",
       "       -2.85849288e-01, -2.66380752e-01,  2.37154497e-01,  1.45098694e-01,\n",
       "       -1.16198130e+00, -9.31538872e-01, -1.10970320e+00, -1.16610241e+00,\n",
       "       -1.43615323e+00, -1.35803476e+00, -1.04533069e+00, -1.69149793e+00,\n",
       "       -8.89786475e-01, -1.17011922e+00, -1.16150527e+00, -1.12997577e+00,\n",
       "       -1.31795444e+00, -1.44711152e+00, -1.67933285e-01, -6.25925023e-01,\n",
       "       -1.76930062e+00, -6.80114366e-01, -1.67983593e+00, -3.13606880e-01,\n",
       "       -2.07209708e-01, -1.26690279e+00, -1.15157982e+00, -1.68706372e+00,\n",
       "       -1.84240120e+00, -6.29408719e-01, -1.81391741e-01, -9.60490533e-01,\n",
       "       -5.05537107e-01, -1.05028160e+00, -8.58682357e-02, -7.52774887e-01,\n",
       "        8.86049681e-02, -9.45826902e-01, -1.76847263e+00, -4.65857863e-01,\n",
       "       -1.28500819e+00, -8.02743145e-01, -1.26376453e+00, -9.29437071e-01,\n",
       "       -1.37066630e+00, -7.08173577e-01, -1.92486701e+00, -1.43968438e+00,\n",
       "       -8.35559453e-01, -1.27752802e+00, -1.54603114e+00, -9.61857012e-01,\n",
       "       -1.86630354e+00, -1.23273514e+00, -1.67901954e+00, -9.36204396e-01,\n",
       "       -2.08050749e+00, -1.75590876e+00, -1.82668480e+00, -1.58402510e+00,\n",
       "       -1.23888464e+00, -1.60044775e+00, -7.01525317e-01, -6.52217627e-01,\n",
       "       -1.29562426e-01, -1.22130235e+00, -1.45886452e+00, -1.25130309e+00,\n",
       "       -1.14639438e+00, -1.18276799e+00, -8.19455882e-01, -5.53159607e-01,\n",
       "       -4.06221303e-01, -1.79111981e+00, -1.15510681e+00, -6.64729366e-01,\n",
       "       -8.77373072e-01, -1.37468446e+00, -8.38461784e-01, -5.59064928e-01,\n",
       "       -6.37202397e-01, -2.84577487e-01, -1.28393733e+00, -7.68299926e-01,\n",
       "       -3.39048794e-01, -1.45069986e+00, -1.78604568e+00, -1.08819995e+00,\n",
       "       -1.10665573e+00, -1.61687348e+00, -1.47557467e+00, -1.56536226e+00,\n",
       "       -6.25890711e-01, -9.79576522e-01, -4.89201099e-01, -1.27035203e+00,\n",
       "       -1.09328286e+00, -5.14804530e-01, -6.23403972e-01, -6.80877187e-01,\n",
       "       -1.23805432e+00, -9.77715171e-01, -1.33497383e+00, -1.63073840e-01,\n",
       "       -1.21664941e+00, -3.44985730e-01, -9.15480651e-01, -7.65466373e-01,\n",
       "       -1.43862430e+00, -5.65639640e-01, -1.66718067e+00, -2.13766782e+00,\n",
       "       -1.99633328e+00, -6.59910792e-01, -2.10069173e+00, -2.08763406e+00,\n",
       "       -2.12509109e+00, -1.74001162e+00, -1.77173889e+00, -1.85305134e+00,\n",
       "       -1.65379476e+00, -1.72943018e+00, -1.38274842e+00, -2.18385758e+00,\n",
       "       -1.90727029e+00, -1.71397638e+00, -1.74351409e+00, -1.67147289e+00,\n",
       "       -1.72335189e+00, -1.98665054e+00, -1.98425103e+00, -1.72250967e+00,\n",
       "       -1.82963506e+00, -1.97221610e+00, -2.07195449e+00, -1.73025997e+00,\n",
       "       -1.88109040e+00, -1.39599992e+00, -2.17111393e+00, -1.13760647e+00,\n",
       "       -1.78128216e+00, -2.05937970e+00, -1.97470605e+00, -1.72627956e+00,\n",
       "       -1.21547676e-01, -3.08726628e-01, -2.00978206e+00, -3.54091569e-01,\n",
       "       -1.53773174e+00, -2.22055512e+00,  2.90796345e-01, -3.04072996e-01,\n",
       "       -1.26968081e-01, -1.64188399e+00, -1.79268242e+00, -1.76030882e+00,\n",
       "       -1.87353486e+00, -2.15783612e+00, -1.60548941e+00, -2.04132158e-01,\n",
       "       -6.44828425e-01, -8.03342956e-01, -6.37161292e-01, -1.79803819e+00,\n",
       "       -2.04293369e-01, -1.38796816e+00, -6.46004438e-01,  9.63744937e-02,\n",
       "        2.06553123e-01, -7.69664879e-01, -1.65515162e+00, -1.11031674e+00,\n",
       "       -7.63578736e-01, -6.53666743e-01, -5.21149480e-01,  7.40227502e-02,\n",
       "       -4.17792481e-01, -2.69573209e-01, -1.00347319e-02, -8.78822200e-02,\n",
       "       -6.22225619e-01, -4.49333193e-01, -1.98206590e-01,  6.55027045e-01,\n",
       "        2.27599136e-01, -2.89716533e-01, -5.89574307e-01, -4.07045460e-01,\n",
       "       -1.02872290e-01, -6.68144767e-01, -4.20835390e-01,  9.83842332e-02,\n",
       "       -2.99428867e-01, -5.70498474e-01, -1.86319376e-01, -5.58939282e-01,\n",
       "       -3.76186316e-01, -1.11003862e-01,  3.61433234e-02, -2.53169258e-01,\n",
       "       -1.38735714e+00, -1.08445584e+00, -6.76340497e-01, -9.15523806e-01,\n",
       "       -1.09547656e+00, -5.80339774e-02, -3.38130341e-01, -9.35683558e-01,\n",
       "       -1.25416349e+00, -8.63546940e-01, -1.43583344e+00, -1.99824239e+00,\n",
       "       -1.33033892e+00,  1.25969178e-01, -9.64811218e-01, -7.93849282e-01,\n",
       "       -7.38003130e-01, -1.15561773e+00, -3.38872558e-01, -4.84864390e-01,\n",
       "       -4.98147489e-01, -1.26119313e+00, -1.67291405e+00, -1.34900582e+00,\n",
       "       -6.64087002e-01, -8.08276582e-01, -9.44372683e-02, -9.68154534e-01,\n",
       "       -7.17279437e-01, -1.44323203e+00, -4.17638069e-01, -7.82734391e-01,\n",
       "        1.20836676e-01, -1.28319543e+00, -1.20089570e+00, -1.92096577e+00,\n",
       "       -1.05686080e+00, -1.15222602e+00, -1.36446316e+00, -8.47246196e-01,\n",
       "       -4.91711498e-01,  1.33056180e-01, -8.97386212e-01, -1.89971007e+00,\n",
       "       -1.53134573e+00, -1.68649670e+00, -1.37950774e+00, -1.08573865e+00,\n",
       "       -4.12600044e-01, -7.68623801e-01, -3.24244440e-01, -1.10869027e+00,\n",
       "       -1.15217635e+00, -4.83031312e-01, -3.62680785e-01, -2.59404010e-01,\n",
       "       -1.21840483e+00, -9.94341715e-01, -7.68583429e-01, -1.42935729e-01,\n",
       "       -5.27046865e-01, -1.15765529e+00, -1.83499658e+00, -1.19714453e+00,\n",
       "       -6.80519411e-01, -1.04995384e+00, -6.43044709e-01, -4.11924986e-01,\n",
       "       -9.06797198e-01, -9.18504519e-01, -6.35372392e-01, -1.15647268e+00,\n",
       "       -8.83589353e-01, -1.23666231e-01, -7.50823989e-01, -1.27748992e+00,\n",
       "       -1.36078291e+00, -7.02926427e-01, -1.10858304e-01, -1.17483862e+00,\n",
       "       -7.91245901e-01, -6.52641073e-01, -9.24526447e-01, -1.36455926e-01,\n",
       "        1.34696715e-01, -1.23272032e-01, -1.30485809e+00, -1.02929832e+00,\n",
       "       -8.48302822e-01, -1.06838351e+00, -1.07708200e+00, -1.52265492e+00,\n",
       "       -1.48747776e+00,  1.48427966e-01, -2.56908566e-01, -1.23160838e+00,\n",
       "       -7.63675117e-01,  7.80864025e-02, -5.22559749e-01, -5.54605802e-01,\n",
       "       -1.04645034e+00, -8.77973151e-01,  8.02974528e-01, -1.38520153e+00,\n",
       "        2.29755107e-01,  8.89820227e-02, -4.22758541e-01, -5.29482236e-01,\n",
       "       -4.74214910e-01, -2.83226483e-01,  5.86911685e-02, -3.19655933e-01,\n",
       "       -3.68678374e-01, -1.33718725e+00, -2.52726708e-01, -8.37783810e-01,\n",
       "       -1.75055774e+00, -8.24884929e-01, -8.39104789e-01, -8.75223602e-01,\n",
       "       -8.62231391e-01,  6.73736442e-02, -3.75981384e-01, -1.19316918e-01,\n",
       "       -7.51128277e-01,  5.36485786e-01, -1.41697040e+00, -5.64315892e-01,\n",
       "       -1.13228809e+00, -9.33969613e-01, -1.76227713e+00,  5.02620612e-01,\n",
       "        2.19747994e-02, -1.67666711e+00, -6.69900692e-01, -1.48830198e+00,\n",
       "       -1.90791699e+00, -1.46392348e+00, -1.95553878e+00,  5.78323025e-01,\n",
       "       -1.53236940e+00, -5.10148571e-01, -1.70351297e+00, -1.23851659e+00,\n",
       "       -1.43119456e+00, -6.18266265e-01, -1.82781501e+00, -1.09236755e+00,\n",
       "       -1.76301757e+00, -1.91233330e+00, -1.51966780e+00, -4.78679800e-02,\n",
       "       -3.34497486e-01, -6.82498815e-01, -9.40788895e-01])"
      ]
     },
     "execution_count": 278,
     "metadata": {},
     "output_type": "execute_result"
    }
   ],
   "source": [
    "pred"
   ]
  },
  {
   "cell_type": "code",
   "execution_count": 279,
   "metadata": {},
   "outputs": [],
   "source": [
    "df_exp007 = pd.read_csv(\"../output/exp007/20210531021845/val_fold0_best.csv\")"
   ]
  },
  {
   "cell_type": "code",
   "execution_count": 280,
   "metadata": {},
   "outputs": [
    {
     "name": "stdout",
     "output_type": "stream",
     "text": [
      "ratio=0.0: rmse=0.4952\n",
      "ratio=0.01: rmse=0.4945\n",
      "ratio=0.02: rmse=0.494\n",
      "ratio=0.03: rmse=0.4936\n",
      "ratio=0.04: rmse=0.4933\n",
      "ratio=0.05: rmse=0.4931\n",
      "ratio=0.06: rmse=0.493\n",
      "ratio=0.07: rmse=0.493\n",
      "ratio=0.08: rmse=0.4931\n",
      "ratio=0.09: rmse=0.4933\n",
      "ratio=0.1: rmse=0.4936\n",
      "ratio=0.11: rmse=0.494\n",
      "ratio=0.12: rmse=0.4945\n",
      "ratio=0.13: rmse=0.4951\n",
      "ratio=0.14: rmse=0.4958\n",
      "ratio=0.15: rmse=0.4966\n",
      "ratio=0.16: rmse=0.4975\n",
      "ratio=0.17: rmse=0.4985\n",
      "ratio=0.18: rmse=0.4996\n",
      "ratio=0.19: rmse=0.5008\n",
      "ratio=0.2: rmse=0.5021\n",
      "ratio=0.21: rmse=0.5034\n",
      "ratio=0.22: rmse=0.5049\n",
      "ratio=0.23: rmse=0.5065\n",
      "ratio=0.24: rmse=0.5082\n",
      "ratio=0.25: rmse=0.5099\n",
      "ratio=0.26: rmse=0.5118\n",
      "ratio=0.27: rmse=0.5138\n",
      "ratio=0.28: rmse=0.5158\n",
      "ratio=0.29: rmse=0.5179\n",
      "ratio=0.3: rmse=0.5201\n",
      "ratio=0.31: rmse=0.5224\n",
      "ratio=0.32: rmse=0.5248\n",
      "ratio=0.33: rmse=0.5273\n",
      "ratio=0.34: rmse=0.5299\n",
      "ratio=0.35000000000000003: rmse=0.5325\n",
      "ratio=0.36: rmse=0.5352\n",
      "ratio=0.37: rmse=0.538\n",
      "ratio=0.38: rmse=0.5409\n",
      "ratio=0.39: rmse=0.5438\n",
      "ratio=0.4: rmse=0.5469\n",
      "ratio=0.41000000000000003: rmse=0.55\n",
      "ratio=0.42: rmse=0.5531\n",
      "ratio=0.43: rmse=0.5564\n",
      "ratio=0.44: rmse=0.5597\n",
      "ratio=0.45: rmse=0.5631\n",
      "ratio=0.46: rmse=0.5666\n",
      "ratio=0.47000000000000003: rmse=0.5701\n",
      "ratio=0.48: rmse=0.5737\n",
      "ratio=0.49: rmse=0.5773\n",
      "ratio=0.5: rmse=0.581\n",
      "ratio=0.51: rmse=0.5848\n",
      "ratio=0.52: rmse=0.5887\n",
      "ratio=0.53: rmse=0.5926\n",
      "ratio=0.54: rmse=0.5965\n",
      "ratio=0.55: rmse=0.6005\n",
      "ratio=0.56: rmse=0.6046\n",
      "ratio=0.5700000000000001: rmse=0.6087\n",
      "ratio=0.58: rmse=0.6129\n",
      "ratio=0.59: rmse=0.6172\n",
      "ratio=0.6: rmse=0.6214\n",
      "ratio=0.61: rmse=0.6258\n",
      "ratio=0.62: rmse=0.6302\n",
      "ratio=0.63: rmse=0.6346\n",
      "ratio=0.64: rmse=0.6391\n",
      "ratio=0.65: rmse=0.6436\n",
      "ratio=0.66: rmse=0.6482\n",
      "ratio=0.67: rmse=0.6528\n",
      "ratio=0.68: rmse=0.6575\n",
      "ratio=0.6900000000000001: rmse=0.6622\n",
      "ratio=0.7000000000000001: rmse=0.6669\n",
      "ratio=0.71: rmse=0.6717\n",
      "ratio=0.72: rmse=0.6766\n",
      "ratio=0.73: rmse=0.6814\n",
      "ratio=0.74: rmse=0.6863\n",
      "ratio=0.75: rmse=0.6913\n",
      "ratio=0.76: rmse=0.6963\n",
      "ratio=0.77: rmse=0.7013\n",
      "ratio=0.78: rmse=0.7064\n",
      "ratio=0.79: rmse=0.7114\n",
      "ratio=0.8: rmse=0.7166\n",
      "ratio=0.81: rmse=0.7217\n",
      "ratio=0.8200000000000001: rmse=0.7269\n",
      "ratio=0.8300000000000001: rmse=0.7321\n",
      "ratio=0.84: rmse=0.7374\n",
      "ratio=0.85: rmse=0.7427\n",
      "ratio=0.86: rmse=0.748\n",
      "ratio=0.87: rmse=0.7533\n",
      "ratio=0.88: rmse=0.7587\n",
      "ratio=0.89: rmse=0.7641\n",
      "ratio=0.9: rmse=0.7695\n",
      "ratio=0.91: rmse=0.775\n",
      "ratio=0.92: rmse=0.7804\n",
      "ratio=0.93: rmse=0.7859\n",
      "ratio=0.9400000000000001: rmse=0.7915\n",
      "ratio=0.9500000000000001: rmse=0.797\n",
      "ratio=0.96: rmse=0.8026\n",
      "ratio=0.97: rmse=0.8082\n",
      "ratio=0.98: rmse=0.8138\n",
      "ratio=0.99: rmse=0.8195\n"
     ]
    }
   ],
   "source": [
    "for ratio in np.arange(0, 1, 0.01):\n",
    "    pred_ensemble = pred * ratio + df_exp007[\"pred\"].values * (1 - ratio)\n",
    "    rmse = np.sqrt(1 / len(pred_ensemble) * ((target - pred_ensemble)**2).sum())\n",
    "    print(f\"ratio={ratio}: rmse={np.round(rmse, 4)}\")"
   ]
  },
  {
   "cell_type": "code",
   "execution_count": null,
   "metadata": {},
   "outputs": [],
   "source": []
  },
  {
   "cell_type": "code",
   "execution_count": null,
   "metadata": {},
   "outputs": [],
   "source": []
  },
  {
   "cell_type": "code",
   "execution_count": null,
   "metadata": {},
   "outputs": [],
   "source": []
  }
 ],
 "metadata": {
  "kernelspec": {
   "display_name": "Python 3",
   "language": "python",
   "name": "python3"
  },
  "language_info": {
   "codemirror_mode": {
    "name": "ipython",
    "version": 3
   },
   "file_extension": ".py",
   "mimetype": "text/x-python",
   "name": "python",
   "nbconvert_exporter": "python",
   "pygments_lexer": "ipython3",
   "version": "3.8.5"
  }
 },
 "nbformat": 4,
 "nbformat_minor": 4
}
